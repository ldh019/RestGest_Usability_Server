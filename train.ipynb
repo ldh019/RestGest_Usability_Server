{
 "cells": [
  {
   "cell_type": "markdown",
   "metadata": {},
   "source": [
    "### 1. 라이브러리 임포트"
   ]
  },
  {
   "cell_type": "code",
   "execution_count": 95,
   "metadata": {},
   "outputs": [],
   "source": [
    "import joblib\n",
    "import numpy as np\n",
    "import pandas as pd\n",
    "import os\n",
    "\n",
    "from sklearn.svm import SVC"
   ]
  },
  {
   "cell_type": "markdown",
   "metadata": {},
   "source": [
    "### 2. 데이터 로드"
   ]
  },
  {
   "cell_type": "code",
   "execution_count": null,
   "metadata": {},
   "outputs": [],
   "source": [
    "# df = pd.read_csv(\"train_data_200_user2_center_grab.csv\")\n",
    "\n",
    "file_names = [\n",
    "    \"0624-user1-device1-table1\",\n",
    "    \"0723-user2-device1-table1\",\n",
    "    \"0626-user3-device1-table1\",\n",
    "    \"0625-user7-device1-table1\"\n",
    "]\n",
    "\n",
    "df = pd.DataFrame()\n",
    "\n",
    "# 각 CSV 파일을 순회하며 데이터프레임으로 불러오고 하나로 합치기\n",
    "for file in file_names:\n",
    "    temp_df = pd.read_csv(\"data/\" + file + \".csv\")\n",
    "    df = pd.concat([df, temp_df], ignore_index=True)"
   ]
  },
  {
   "cell_type": "markdown",
   "metadata": {},
   "source": [
    "### 3. (추가 기능) 원하는 라벨만 필터링\n",
    "**이곳에서 `desired_labels` 리스트를 수정하여 원하는 동작만 학습시킬 수 있습니다.**"
   ]
  },
  {
   "cell_type": "code",
   "execution_count": 97,
   "metadata": {},
   "outputs": [
    {
     "name": "stdout",
     "output_type": "stream",
     "text": [
      "Available labels: ['clap' 'flickL' 'flickR' 'grabL' 'grabR' 'pinchL' 'pinchR' 'touchL'\n",
      " 'touchR']\n",
      "\n",
      "Training with labels: ['pinchL' 'pinchR']\n",
      "Filtered data shape: (40, 2401)\n"
     ]
    }
   ],
   "source": [
    "# 사용 가능한 전체 라벨 확인\n",
    "print(f\"Available labels: {df['class'].unique()}\")\n",
    "\n",
    "# 학습에 사용할 라벨을 리스트로 지정 (예: ['clap', 'grab'])\n",
    "desired_labels = ['pinchL', 'pinchR'] # <--- 이 부분을 수정하세요\n",
    "\n",
    "# 지정한 라벨에 해당하는 데이터만 필터링\n",
    "df = df[df['class'].isin(desired_labels)].copy()\n",
    "\n",
    "print(f\"\\nTraining with labels: {df['class'].unique()}\")\n",
    "print(f\"Filtered data shape: {df.shape}\")"
   ]
  },
  {
   "cell_type": "markdown",
   "metadata": {},
   "source": [
    "### 4. 라벨과 피처 분리 (수정됨)\n",
    "컬럼 이름을 명시하여 안정성을 높였습니다."
   ]
  },
  {
   "cell_type": "code",
   "execution_count": 98,
   "metadata": {},
   "outputs": [
    {
     "name": "stdout",
     "output_type": "stream",
     "text": [
      "X_raw shape: (40, 2400)\n",
      "y shape: (40,)\n"
     ]
    }
   ],
   "source": [
    "y = df['class'].values\n",
    "X_raw = df.drop('class', axis=1).values.astype(float)\n",
    "\n",
    "print(\"X_raw shape:\", X_raw.shape)\n",
    "print(\"y shape:\", y.shape)"
   ]
  },
  {
   "cell_type": "markdown",
   "metadata": {},
   "source": [
    "### 5. FFT 변환 함수 (수정됨)\n",
    "`main.py`와 일치하도록 `rfft`를 사용합니다."
   ]
  },
  {
   "cell_type": "code",
   "execution_count": 99,
   "metadata": {},
   "outputs": [],
   "source": [
    "def extract_fft_features(raw_row, fs=400, N=400):\n",
    "    features = []\n",
    "    num_axes = 6 # 6축 (accel 3 + gyro 3)\n",
    "    for i in range(num_axes):\n",
    "        segment = raw_row[i*N:(i+1)*N]\n",
    "        \n",
    "        # main.py와 동일하게 rfft 사용\n",
    "        fft_vals = np.fft.rfft(segment)\n",
    "        fft_mag = np.abs(fft_vals)\n",
    "        freqs = np.fft.rfftfreq(N, d=1/fs)\n",
    "        \n",
    "        mask = (freqs >= 1) & (freqs <= 200)\n",
    "        fft_selected = fft_mag[mask]\n",
    "        fft_logged = np.log1p(fft_selected)\n",
    "        features.extend(fft_logged)\n",
    "        \n",
    "    return np.array(features)"
   ]
  },
  {
   "cell_type": "markdown",
   "metadata": {},
   "source": [
    "### 6. 모든 샘플에 대해 피처 추출"
   ]
  },
  {
   "cell_type": "code",
   "execution_count": 100,
   "metadata": {},
   "outputs": [
    {
     "name": "stdout",
     "output_type": "stream",
     "text": [
      "Raw data shape: (40, 2400)\n",
      "FFT feature shape: (40, 1200)\n"
     ]
    }
   ],
   "source": [
    "X_feat = np.array([extract_fft_features(row) for row in X_raw])\n",
    "\n",
    "print(\"Raw data shape:\", X_raw.shape)\n",
    "print(\"FFT feature shape:\", X_feat.shape)"
   ]
  },
  {
   "cell_type": "markdown",
   "metadata": {},
   "source": [
    "### 7. SVM 학습 (수정됨)\n",
    "**가장 중요한 수정: 원시 데이터(X_raw)가 아닌 FFT 변환된 피처(X_feat)로 학습합니다.**"
   ]
  },
  {
   "cell_type": "code",
   "execution_count": 101,
   "metadata": {},
   "outputs": [
    {
     "name": "stdout",
     "output_type": "stream",
     "text": [
      "SVM model training complete.\n"
     ]
    }
   ],
   "source": [
    "svm_model = SVC(kernel=\"linear\", decision_function_shape=\"ovo\", probability=True)\n",
    "\n",
    "# FFT 변환된 피처로 모델을 학습시킵니다.\n",
    "svm_model.fit(X_feat, y)\n",
    "\n",
    "print(\"SVM model training complete.\")"
   ]
  },
  {
   "cell_type": "markdown",
   "metadata": {},
   "source": [
    "### 8. 모델 저장"
   ]
  },
  {
   "cell_type": "code",
   "execution_count": 102,
   "metadata": {},
   "outputs": [
    {
     "name": "stdout",
     "output_type": "stream",
     "text": [
      "Model saved to svm_model_0625-user7-device1-table1.pkl\n"
     ]
    }
   ],
   "source": [
    "# 파일 이름에 어떤 데이터로 학습했는지 명시하는 것이 좋습니다.\n",
    "if len(file_names) <= 1:\n",
    "    model_filename = f\"svm_model_{file}.pkl\"\n",
    "else:\n",
    "    model_filename = f\"svm_model_file_num_{len(file_names)}.pkl\"\n",
    "\n",
    "joblib.dump(svm_model, \"model/\" + model_filename)\n",
    "\n",
    "print(f\"Model saved to {model_filename}\")"
   ]
  }
 ],
 "metadata": {
  "kernelspec": {
   "display_name": "base",
   "language": "python",
   "name": "python3"
  },
  "language_info": {
   "codemirror_mode": {
    "name": "ipython",
    "version": 3
   },
   "file_extension": ".py",
   "mimetype": "text/x-python",
   "name": "python",
   "nbconvert_exporter": "python",
   "pygments_lexer": "ipython3",
   "version": "3.13.5"
  }
 },
 "nbformat": 4,
 "nbformat_minor": 4
}
